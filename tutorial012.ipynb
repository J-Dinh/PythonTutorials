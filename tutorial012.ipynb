{
 "cells": [
  {
   "cell_type": "markdown",
   "id": "a38d572b",
   "metadata": {},
   "source": [
    "## Some fundemental elements of programming I\n",
    "### Loops"
   ]
  },
  {
   "cell_type": "markdown",
   "id": "809aa3e2",
   "metadata": {},
   "source": [
    "The core of data science is computer programming. To really explore data, we need to be able to write code to 1) wrangle data into a suitable shape for analysis and 2) do the actual analysis and visualization.\n",
    "\n",
    "If data science didn't involve programming – if it only involved clicking buttons in a statistics program like SPSS – it wouldn't be called data science. In fact, it wouldn't even be a \"thing\"."
   ]
  },
  {
   "cell_type": "markdown",
   "id": "30775168",
   "metadata": {},
   "source": [
    "What we are going to do in this tutorial is to start looking at some of the core elements of computer programs – the things that, in fact, really make computer programs useful. These elements are\n",
    "\n",
    "* loops\n",
    "* conditional tests and Boolean logic\n",
    "* control flow\n",
    "* functions\n",
    "\n",
    "We will explore these things using fairly simple examples (that will also give us practice with indexing). Later, we will see how useful these core elements are when they are combined!\n",
    "\n",
    "Today, we will look at..."
   ]
  },
  {
   "cell_type": "markdown",
   "id": "e628e270",
   "metadata": {},
   "source": [
    "### Loops"
   ]
  },
  {
   "cell_type": "markdown",
   "id": "f15e14bf",
   "metadata": {},
   "source": [
    "A lot of things in life are repetitive. We need to do an entire process over when only one small thing has changed. For example, most of us follow the same exact routine every morning (shower/brush teeth/shave/make up/whatever) even though the only thing that has changed is one little number on a calendar. The same is true for computational tasks; a teacher might need to go through the exact same steps to compute a grade for each student, or a data scientist might need to go through the exact same steps to create a plot for several different but identically structured data sets.\n",
    "\n",
    "Such repetitive tasks are very boring for humans (and bored humans tend to make mistakes!). While computers can't brush our teeth yet (still waiting for those tarter-eating nanobots!), they can help with reapeating calculations over and over using ***loops***.\n",
    "\n",
    "There are two kinds of loops. There are\n",
    "\n",
    "* `for` loops, which run a calculation *for* a pre-determined number of times\n",
    "* `while` loops, which run a calculation *while* some critereon is met\n",
    "\n",
    "Let's look at these in turn."
   ]
  },
  {
   "cell_type": "markdown",
   "id": "8effb84d",
   "metadata": {},
   "source": [
    "#### for loops"
   ]
  },
  {
   "cell_type": "markdown",
   "id": "680b3a98",
   "metadata": {},
   "source": [
    "The `for` loop will be your workhorse for a lot of tasks. "
   ]
  },
  {
   "cell_type": "markdown",
   "id": "83e7d5e7",
   "metadata": {},
   "source": [
    "Let's run this very simple `for` loop, and then we'll look at it and dissect it."
   ]
  },
  {
   "cell_type": "code",
   "execution_count": 1,
   "id": "5b995534",
   "metadata": {},
   "outputs": [
    {
     "name": "stdout",
     "output_type": "stream",
     "text": [
      "1\n",
      "2\n",
      "3\n",
      "4\n",
      "5\n"
     ]
    }
   ],
   "source": [
    "myNewList = [1, 2, 3, 4, 5]\n",
    "for i in myNewList :\n",
    "    print(i)"
   ]
  },
  {
   "cell_type": "markdown",
   "id": "5684dda6",
   "metadata": {},
   "source": [
    "The first line, `myNewList = [1, 2, 3, 4, 5]`, creates a Python ***list*** of numbers. A list in Python is a kind of ***iterable***, which is a Python object that will automatically spit out its values one-at-a-time if it's put in a `for` loop."
   ]
  },
  {
   "cell_type": "markdown",
   "id": "7ceac915",
   "metadata": {},
   "source": [
    "The next line, `for i in myNewList:`, sets up the for loop. It says that:\n",
    "\n",
    "* each value in myNewList (the iterable) will be assigned to the variable `i` in turn\n",
    "* every ***indented*** line under this line is executed with each value of `i` in turn\n",
    "\n",
    "The third line self-explanitory; we are just printing the values of `i` to confirm that `i` is, in fact, getting assigned each value of `myNewList` in turn.\n",
    "\n",
    "(The use of `i` here is by convention only. You can use anything, like `Phredrick` even, as the name of your looping variable. But, just like having numpy nicknamed np, the use of `i` will generally make your code more readable to others, including future you!)"
   ]
  },
  {
   "cell_type": "markdown",
   "id": "e3f35b4e",
   "metadata": {},
   "source": [
    "**Note:** The indentation in the `for` loop is key. Python was designed from the ground up to be a very human readable programming language. Appropriate indentation helps make code pretty and readable. As such, Python enforces its use in certain circumstances, like inside a `for` loop. The indentation tells Python \"Yep, this line is inside the `for` loop.\" and the end of indentation tells Python (and you) \"Okay, now we're back outside the `for` loop.\"\n",
    "\n",
    "In most other programming languages, we are encouraged to indent our code to make it pretty. In Python, indentation is actually a part of the language!"
   ]
  },
  {
   "cell_type": "markdown",
   "id": "cc9aa65f",
   "metadata": {},
   "source": [
    "Let's experiment with this by computing the square root of some numbers. This `for` loop should run as expected."
   ]
  },
  {
   "cell_type": "code",
   "execution_count": 2,
   "id": "14f51aa0",
   "metadata": {},
   "outputs": [
    {
     "name": "stdout",
     "output_type": "stream",
     "text": [
      "The square root of  0  is  0.0\n",
      "The square root of  1  is  1.0\n",
      "The square root of  2  is  1.4142135623730951\n",
      "The square root of  3  is  1.7320508075688772\n",
      "The square root of  4  is  2.0\n",
      "The square root of  5  is  2.23606797749979\n",
      "The square root of  6  is  2.449489742783178\n",
      "The square root of  7  is  2.6457513110645907\n",
      "The square root of  8  is  2.8284271247461903\n",
      "The square root of  9  is  3.0\n",
      "Now the loop is over.\n"
     ]
    }
   ],
   "source": [
    "aList = [0, 1, 2, 3, 4, 5, 6, 7, 8, 9]\n",
    "for i in aList :    \n",
    "    root = i**0.5  # the double splat, \"**\", is \"raise to the power of\"\n",
    "    print('The square root of ', i, ' is ', root)\n",
    "print('Now the loop is over.')"
   ]
  },
  {
   "cell_type": "markdown",
   "id": "b22c87d9",
   "metadata": {},
   "source": [
    "Now let's see what the same code does with no indentation:"
   ]
  },
  {
   "cell_type": "code",
   "execution_count": 3,
   "id": "fbb08e9e",
   "metadata": {},
   "outputs": [
    {
     "ename": "IndentationError",
     "evalue": "expected an indented block (Temp/ipykernel_6388/1148539807.py, line 3)",
     "output_type": "error",
     "traceback": [
      "\u001b[1;36m  File \u001b[1;32m\"C:\\Users\\silve\\AppData\\Local\\Temp/ipykernel_6388/1148539807.py\"\u001b[1;36m, line \u001b[1;32m3\u001b[0m\n\u001b[1;33m    root = i**0.5\u001b[0m\n\u001b[1;37m    ^\u001b[0m\n\u001b[1;31mIndentationError\u001b[0m\u001b[1;31m:\u001b[0m expected an indented block\n"
     ]
    }
   ],
   "source": [
    "aList = [0, 1, 2, 3, 4, 5, 6, 7, 8, 9]\n",
    "for i in aList :    \n",
    "root = i**0.5\n",
    "print('The square root of ', i, ' is ', root)\n",
    "print('Now the loop is over.')"
   ]
  },
  {
   "cell_type": "markdown",
   "id": "a5738408",
   "metadata": {},
   "source": [
    "Oops! Python barfs because the indentation – an integral part of the code – is wrong."
   ]
  },
  {
   "cell_type": "markdown",
   "id": "eab8d350",
   "metadata": {},
   "source": [
    "Even if we try to make our intent clear with blank lines, the indentation determines what is in the loop or not. Below, it looks like we want the second print to be outside the loop..."
   ]
  },
  {
   "cell_type": "code",
   "execution_count": 4,
   "id": "a46eb55e",
   "metadata": {
    "scrolled": true
   },
   "outputs": [
    {
     "name": "stdout",
     "output_type": "stream",
     "text": [
      "The square root of  0  is  0.0\n",
      "Now the loop is over.\n",
      "The square root of  1  is  1.0\n",
      "Now the loop is over.\n",
      "The square root of  2  is  1.4142135623730951\n",
      "Now the loop is over.\n",
      "The square root of  3  is  1.7320508075688772\n",
      "Now the loop is over.\n",
      "The square root of  4  is  2.0\n",
      "Now the loop is over.\n",
      "The square root of  5  is  2.23606797749979\n",
      "Now the loop is over.\n",
      "The square root of  6  is  2.449489742783178\n",
      "Now the loop is over.\n",
      "The square root of  7  is  2.6457513110645907\n",
      "Now the loop is over.\n",
      "The square root of  8  is  2.8284271247461903\n",
      "Now the loop is over.\n",
      "The square root of  9  is  3.0\n",
      "Now the loop is over.\n"
     ]
    }
   ],
   "source": [
    "aList = [0, 1, 2, 3, 4, 5, 6, 7, 8, 9]\n",
    "for i in aList :    \n",
    "    root = i**0.5\n",
    "    print('The square root of ', i, ' is ', root)\n",
    "\n",
    "    print('Now the loop is over.')"
   ]
  },
  {
   "cell_type": "markdown",
   "id": "ea68aab6",
   "metadata": {},
   "source": [
    "... but it's not – the indentation makes it part of the `for` loop."
   ]
  },
  {
   "cell_type": "markdown",
   "id": "ce15f7c6",
   "metadata": {},
   "source": [
    "And because indentation is s0 important, we can't indent willy-nilly just because we feel like it:"
   ]
  },
  {
   "cell_type": "code",
   "execution_count": 5,
   "id": "b6882e72",
   "metadata": {},
   "outputs": [
    {
     "ename": "IndentationError",
     "evalue": "unexpected indent (Temp/ipykernel_6388/3813621487.py, line 6)",
     "output_type": "error",
     "traceback": [
      "\u001b[1;36m  File \u001b[1;32m\"C:\\Users\\silve\\AppData\\Local\\Temp/ipykernel_6388/3813621487.py\"\u001b[1;36m, line \u001b[1;32m6\u001b[0m\n\u001b[1;33m    print('Now the loop is over.')\u001b[0m\n\u001b[1;37m    ^\u001b[0m\n\u001b[1;31mIndentationError\u001b[0m\u001b[1;31m:\u001b[0m unexpected indent\n"
     ]
    }
   ],
   "source": [
    "aList = [0, 1, 2, 3, 4, 5, 6, 7, 8, 9]\n",
    "for i in aList :    \n",
    "    root = i**0.5\n",
    "print('The square root of ', i, ' is ', root)\n",
    "\n",
    "    print('Now the loop is over.')"
   ]
  },
  {
   "cell_type": "markdown",
   "id": "fbdae2c2",
   "metadata": {},
   "source": [
    "Okay, let's go back to our working version. It's nice and pretty and it's clear what's in the loop and what's not."
   ]
  },
  {
   "cell_type": "code",
   "execution_count": 6,
   "id": "c233ad1a",
   "metadata": {},
   "outputs": [
    {
     "name": "stdout",
     "output_type": "stream",
     "text": [
      "The square root of  0  is  0.0\n",
      "The square root of  1  is  1.0\n",
      "The square root of  2  is  1.4142135623730951\n",
      "The square root of  3  is  1.7320508075688772\n",
      "The square root of  4  is  2.0\n",
      "The square root of  5  is  2.23606797749979\n",
      "The square root of  6  is  2.449489742783178\n",
      "The square root of  7  is  2.6457513110645907\n",
      "The square root of  8  is  2.8284271247461903\n",
      "The square root of  9  is  3.0\n",
      "Now the loop is over.\n"
     ]
    }
   ],
   "source": [
    "aList = [0, 1, 2, 3, 4, 5, 6, 7, 8, 9]\n",
    "for i in aList :    \n",
    "    root = i**0.5  # the double splat, \"**\", is \"raise to the power of\"\n",
    "    print('The square root of ', i, ' is ', root)\n",
    "\n",
    "print('Now the loop is over.')"
   ]
  },
  {
   "cell_type": "markdown",
   "id": "559a095a",
   "metadata": {},
   "source": [
    "Okay, now write yourself a `for` loop to compute the square of the first few even numbers! Don't copy and paste, write it from scratch! We'll get you started with a list:"
   ]
  },
  {
   "cell_type": "code",
   "execution_count": 7,
   "id": "c8d888d0",
   "metadata": {},
   "outputs": [],
   "source": [
    "myEvens = [2, 4, 6, 8, 10]\n"
   ]
  },
  {
   "cell_type": "markdown",
   "id": "60c9f2bd",
   "metadata": {},
   "source": [
    "Notice that when you hit return after typing the `for ... :` line, Python indented the next line automatically for you. How nice! But sometimes you'll want to go back and edit a `for` loop, or add lines to one, etc. So...\n",
    "\n",
    "**Important!** When you have to indent code manually, use ***4 spaces*** to indent! Do not use a tab, do not use 3 spaces, do not use 5 spaces, ***use 4 spaces***. This is one thing that Python can be really mean about.\n",
    "\n",
    "When you become a master coder, you can experiment with this. But don't come running back to me crying when the Python gods smite you and leave you all alone out in the cold having to pick up the pieces of the tattered shambles of your former life."
   ]
  },
  {
   "cell_type": "markdown",
   "id": "208957e7",
   "metadata": {},
   "source": [
    "###### Ranges\n",
    "Python has a handy dandy thing called a `range()` that works really well with `for` loops. A `range()` spits out a sequence of numbers perfectly suited to feeding a hungry `for` loop. By default, the range starts at zero and increments by one. Like this:"
   ]
  },
  {
   "cell_type": "code",
   "execution_count": 8,
   "id": "56299dae",
   "metadata": {},
   "outputs": [
    {
     "name": "stdout",
     "output_type": "stream",
     "text": [
      "0\n",
      "1\n",
      "2\n",
      "3\n",
      "4\n"
     ]
    }
   ],
   "source": [
    "for i in range(5) :\n",
    "    print(i)"
   ]
  },
  {
   "cell_type": "markdown",
   "id": "398105f2",
   "metadata": {},
   "source": [
    "But you can change this by providing a start and a stop, or even a start, stop and step."
   ]
  },
  {
   "cell_type": "code",
   "execution_count": 9,
   "id": "d9bd1bcc",
   "metadata": {},
   "outputs": [
    {
     "name": "stdout",
     "output_type": "stream",
     "text": [
      "2\n",
      "3\n",
      "4\n",
      "5\n",
      "6\n",
      "7\n",
      "8\n",
      "9\n",
      "10\n"
     ]
    }
   ],
   "source": [
    "for i in range(2, 11) :\n",
    "    print(i)"
   ]
  },
  {
   "cell_type": "code",
   "execution_count": 10,
   "id": "65fd103b",
   "metadata": {},
   "outputs": [
    {
     "name": "stdout",
     "output_type": "stream",
     "text": [
      "2\n",
      "4\n",
      "6\n",
      "8\n",
      "Who do we appreciate?\n"
     ]
    }
   ],
   "source": [
    "for i in range(2, 9, 2) :\n",
    "    print(i)\n",
    "print('Who do we appreciate?')"
   ]
  },
  {
   "cell_type": "markdown",
   "id": "3424a76d",
   "metadata": {},
   "source": [
    "Note that a range does not make a list!"
   ]
  },
  {
   "cell_type": "code",
   "execution_count": 11,
   "id": "d5094fee",
   "metadata": {},
   "outputs": [
    {
     "data": {
      "text/plain": [
       "range(0, 5)"
      ]
     },
     "execution_count": 11,
     "metadata": {},
     "output_type": "execute_result"
    }
   ],
   "source": [
    "a = range(5)\n",
    "a"
   ]
  },
  {
   "cell_type": "code",
   "execution_count": 12,
   "id": "a155f1ed",
   "metadata": {},
   "outputs": [
    {
     "data": {
      "text/plain": [
       "range"
      ]
     },
     "execution_count": 12,
     "metadata": {},
     "output_type": "execute_result"
    }
   ],
   "source": [
    "type(a)"
   ]
  },
  {
   "cell_type": "markdown",
   "id": "b1d50da5",
   "metadata": {},
   "source": [
    "Rather, a `range()` can be thought a little machine that spits out numbers for a `for` loop!"
   ]
  },
  {
   "cell_type": "markdown",
   "id": "2436bfc1",
   "metadata": {},
   "source": [
    "###### for loops and numpy arrays"
   ]
  },
  {
   "cell_type": "markdown",
   "id": "f8f7e389",
   "metadata": {},
   "source": [
    "One great thing about `for` loops is that we can use them to go through the rows or columns of an array (or both!) in turn, repeating some operation on each one. Let's say we need to put the numbers of the binary sequence (2, 4, 8, 16...) in the columns of a 10x5 array for some future simulation."
   ]
  },
  {
   "cell_type": "markdown",
   "id": "6b1fc529",
   "metadata": {},
   "source": [
    "We could do that this way:"
   ]
  },
  {
   "cell_type": "code",
   "execution_count": 13,
   "id": "5e551156",
   "metadata": {},
   "outputs": [
    {
     "data": {
      "text/plain": [
       "array([[ 2.,  4.,  8., 16., 32.],\n",
       "       [ 2.,  4.,  8., 16., 32.],\n",
       "       [ 2.,  4.,  8., 16., 32.],\n",
       "       [ 2.,  4.,  8., 16., 32.],\n",
       "       [ 2.,  4.,  8., 16., 32.],\n",
       "       [ 2.,  4.,  8., 16., 32.],\n",
       "       [ 2.,  4.,  8., 16., 32.],\n",
       "       [ 2.,  4.,  8., 16., 32.],\n",
       "       [ 2.,  4.,  8., 16., 32.],\n",
       "       [ 2.,  4.,  8., 16., 32.]])"
      ]
     },
     "execution_count": 13,
     "metadata": {},
     "output_type": "execute_result"
    }
   ],
   "source": [
    "import numpy as np\n",
    "nRows, nCols = 10, 5   # Python let's us do this!\n",
    "myArraySize = (nRows, nCols)  # we'll make a 10x5 array. Rows always come first!\n",
    "anArray = np.zeros(myArraySize)\n",
    "\n",
    "anArray[:,0] = 2\n",
    "anArray[:,1] = 4\n",
    "anArray[:,2] = 8\n",
    "anArray[:,3] = 16\n",
    "anArray[:,4] = 32\n",
    "\n",
    "anArray"
   ]
  },
  {
   "cell_type": "markdown",
   "id": "2c4bec86",
   "metadata": {},
   "source": [
    "That works, no doubt. But \n",
    "\n",
    "1. there's a lot of \"hand coding\", which is prone to mistakes\n",
    "2. it would be a pain to scale up to huge arrays (as we already know)\n",
    "3. it's ugly "
   ]
  },
  {
   "cell_type": "markdown",
   "id": "008c1644",
   "metadata": {},
   "source": [
    "Now let's do this a cleaner and much more scalable way using a `for` loop."
   ]
  },
  {
   "cell_type": "code",
   "execution_count": 14,
   "id": "8e5b3661",
   "metadata": {},
   "outputs": [
    {
     "data": {
      "text/plain": [
       "array([[ 2.,  4.,  8., 16., 32.],\n",
       "       [ 2.,  4.,  8., 16., 32.],\n",
       "       [ 2.,  4.,  8., 16., 32.],\n",
       "       [ 2.,  4.,  8., 16., 32.],\n",
       "       [ 2.,  4.,  8., 16., 32.],\n",
       "       [ 2.,  4.,  8., 16., 32.],\n",
       "       [ 2.,  4.,  8., 16., 32.],\n",
       "       [ 2.,  4.,  8., 16., 32.],\n",
       "       [ 2.,  4.,  8., 16., 32.],\n",
       "       [ 2.,  4.,  8., 16., 32.]])"
      ]
     },
     "execution_count": 14,
     "metadata": {},
     "output_type": "execute_result"
    }
   ],
   "source": [
    "import numpy as np\n",
    "nRows, nCols = 10, 5   # make variables for length and width of our array\n",
    "myArraySize = (nRows, nCols)    # we'll make a 10x5 array. Rows always come first!\n",
    "ourNumbers = [2, 4, 8, 16, 32]  # numbers that we'll set each column to\n",
    "anArray = np.zeros(myArraySize) # make an array to hold our numbers\n",
    "\n",
    "for i in range(nCols) :\n",
    "    anArray[:,i] = ourNumbers[i]\n",
    "    \n",
    "anArray"
   ]
  },
  {
   "cell_type": "markdown",
   "id": "e3522be5",
   "metadata": {},
   "source": [
    "And we get the same result."
   ]
  },
  {
   "cell_type": "markdown",
   "id": "6700c7b8",
   "metadata": {},
   "source": [
    "So we've swapped this:\n",
    "\n",
    "`anArray[:,0] = 2\n",
    "anArray[:,1] = 4\n",
    "anArray[:,2] = 8\n",
    "anArray[:,3] = 16\n",
    "anArray[:,4] = 32`\n",
    "\n",
    "(Yuk.)\n",
    "\n",
    "for this:\n",
    "\n",
    "`for i in range(nCols) :\n",
    "    anArray[:,i] = ourNumbers[i]`\n",
    "    \n",
    "(Nice.)\n",
    "\n",
    "which is already a huge improvement. But imagine if we were working with a 1000 or 10,000 element array! Doing it the first way – well – you can imagine. But doing it the second way, all we would have to do is change `nCols` and be a bit clever and compute `ourNumbers` automatically."
   ]
  },
  {
   "cell_type": "markdown",
   "id": "8810f65e",
   "metadata": {},
   "source": [
    " Wait, what? How would we compute the binary sequence – the powers of 2 – automatically? \n",
    " \n",
    " With a `for` loop of course! Let's do that!"
   ]
  },
  {
   "cell_type": "code",
   "execution_count": 15,
   "id": "0cc5ffda",
   "metadata": {},
   "outputs": [
    {
     "data": {
      "text/plain": [
       "[2, 4, 8, 16, 32]"
      ]
     },
     "execution_count": 15,
     "metadata": {},
     "output_type": "execute_result"
    }
   ],
   "source": [
    "ourNumbers = list()     # Make an empty Python list\n",
    "for i in range(nCols) :\n",
    "    thisNumber = 2**(i+1)          # compute 2 to the right power\n",
    "    ourNumbers.append(thisNumber)  # and append it to our list \n",
    "ourNumbers"
   ]
  },
  {
   "cell_type": "markdown",
   "id": "afa7f995",
   "metadata": {},
   "source": [
    "---"
   ]
  },
  {
   "cell_type": "markdown",
   "id": "74abc0b8",
   "metadata": {},
   "source": [
    "Puzzle time! Rewrite the above code without using the `thisNumber` variable (so there should only by one line inside the `for` loop)."
   ]
  },
  {
   "cell_type": "code",
   "execution_count": 16,
   "id": "28911fab",
   "metadata": {},
   "outputs": [
    {
     "data": {
      "text/plain": [
       "[2, 4, 8, 16, 32]"
      ]
     },
     "execution_count": 16,
     "metadata": {},
     "output_type": "execute_result"
    }
   ],
   "source": [
    "ourNumbers = list()     # Make an empty Python list\n",
    "for i in range(nCols) :\n",
    "    ourNumbers.append(2**(i+1))  # append number to our list \n",
    "ourNumbers"
   ]
  },
  {
   "cell_type": "markdown",
   "id": "79e94cc7",
   "metadata": {},
   "source": [
    "---"
   ]
  },
  {
   "cell_type": "markdown",
   "id": "2e815688",
   "metadata": {},
   "source": [
    "Okay, now we can write our code to populate the numpy array in way that is completely scalable using a single `for` loop:"
   ]
  },
  {
   "cell_type": "code",
   "execution_count": 17,
   "id": "18038572",
   "metadata": {},
   "outputs": [
    {
     "data": {
      "text/plain": [
       "array([[ 2.,  4.,  8., 16., 32.],\n",
       "       [ 2.,  4.,  8., 16., 32.],\n",
       "       [ 2.,  4.,  8., 16., 32.],\n",
       "       [ 2.,  4.,  8., 16., 32.],\n",
       "       [ 2.,  4.,  8., 16., 32.],\n",
       "       [ 2.,  4.,  8., 16., 32.],\n",
       "       [ 2.,  4.,  8., 16., 32.],\n",
       "       [ 2.,  4.,  8., 16., 32.],\n",
       "       [ 2.,  4.,  8., 16., 32.],\n",
       "       [ 2.,  4.,  8., 16., 32.]])"
      ]
     },
     "execution_count": 17,
     "metadata": {},
     "output_type": "execute_result"
    }
   ],
   "source": [
    "import numpy as np\n",
    "nRows, nCols = 10, 5   # Python let's us do this!\n",
    "myArraySize = (nRows, nCols)  # we'll make a 10x5 array. Rows always come first!\n",
    "anArray = np.zeros(myArraySize)\n",
    "\n",
    "for i in range(nCols) :\n",
    "    anArray[:,i] = 2**(i+1)\n",
    "    \n",
    "anArray"
   ]
  },
  {
   "cell_type": "markdown",
   "id": "248a82c6",
   "metadata": {},
   "source": [
    "Notice that, now, the ***only*** thing we need to change to compute and add more or fewer powers of 2 to our array is a single value – nCols in this case – *everything else is done automatically!*"
   ]
  },
  {
   "cell_type": "markdown",
   "id": "1b9aa1f4",
   "metadata": {},
   "source": [
    "---"
   ]
  },
  {
   "cell_type": "markdown",
   "id": "3bee8cf6",
   "metadata": {},
   "source": [
    "###### Coding challenges!"
   ]
  },
  {
   "cell_type": "markdown",
   "id": "6bca6ba3",
   "metadata": {},
   "source": [
    "Write code (using a `for` loop of course) to compute the cube of the odd numbers from 1 to 9. (Remember that `range()` can take a step argument.)"
   ]
  },
  {
   "cell_type": "code",
   "execution_count": 20,
   "id": "f0791254",
   "metadata": {},
   "outputs": [
    {
     "name": "stdout",
     "output_type": "stream",
     "text": [
      "1\n",
      "9\n",
      "25\n",
      "49\n",
      "81\n"
     ]
    }
   ],
   "source": [
    "for i in range(1,10,2):\n",
    "    print(i**2)"
   ]
  },
  {
   "cell_type": "markdown",
   "id": "dc956031",
   "metadata": {},
   "source": [
    "Write scalable code to compute the first \"n\" numbers of the [Fibonacci sequence](https://en.wikipedia.org/wiki/Fibonacci_number). The Fibonacci sequence (named for the famous 13th century mathematician) starts with the numbers 0 and 1, and each number after that is the sum of the previous two numbers. (Galileo, da Vinci, and Franco aren't the only famous Italian scientists/mathematicians!). "
   ]
  },
  {
   "cell_type": "code",
   "execution_count": 46,
   "id": "5153a2bd",
   "metadata": {},
   "outputs": [
    {
     "name": "stdout",
     "output_type": "stream",
     "text": [
      "0\n",
      "1\n",
      "1\n",
      "2\n",
      "3\n",
      "5\n",
      "8\n",
      "13\n",
      "21\n",
      "34\n",
      "55\n",
      "89\n",
      "144\n",
      "233\n",
      "377\n",
      "610\n",
      "987\n",
      "1597\n",
      "2584\n",
      "4181\n"
     ]
    }
   ],
   "source": [
    "n = 10\n",
    "fib = 0\n",
    "last = 1\n",
    "print(fib)\n",
    "print(last)\n",
    "for i in range(1,n):\n",
    "    fib = fib + last\n",
    "    print(fib)\n",
    "    last = fib + last\n",
    "    print(last)"
   ]
  },
  {
   "cell_type": "markdown",
   "id": "ff3a1381",
   "metadata": {},
   "source": [
    "#### Nested for loops"
   ]
  },
  {
   "cell_type": "markdown",
   "id": "a4ecdd38",
   "metadata": {},
   "source": [
    "A great thing about `for` loops is that they can be *nested* inside one another. This is best illustrated by example, so let's look at one and disect it."
   ]
  },
  {
   "cell_type": "code",
   "execution_count": 28,
   "id": "d6b1708a",
   "metadata": {},
   "outputs": [
    {
     "name": "stdout",
     "output_type": "stream",
     "text": [
      "Hi! I'm in row  0  and column 0 !\n",
      "Hi! I'm in row  1  and column 0 !\n",
      "Hi! I'm in row  2  and column 0 !\n",
      "Hi! I'm in row  0  and column 1 !\n",
      "Hi! I'm in row  1  and column 1 !\n",
      "Hi! I'm in row  2  and column 1 !\n",
      "Hi! I'm in row  0  and column 2 !\n",
      "Hi! I'm in row  1  and column 2 !\n",
      "Hi! I'm in row  2  and column 2 !\n",
      "Hi! I'm in row  0  and column 3 !\n",
      "Hi! I'm in row  1  and column 3 !\n",
      "Hi! I'm in row  2  and column 3 !\n"
     ]
    },
    {
     "data": {
      "text/plain": [
       "array([[ 0.,  4.,  8.],\n",
       "       [ 1.,  5.,  9.],\n",
       "       [ 2.,  6., 10.],\n",
       "       [ 3.,  7., 11.]])"
      ]
     },
     "execution_count": 28,
     "metadata": {},
     "output_type": "execute_result"
    }
   ],
   "source": [
    "nRows, nCols = 4, 3            # (easily changeble) array height and width\n",
    "myArraySize = (nRows, nCols)    # handy list of the size \n",
    "anArray = np.zeros(myArraySize) # make the array\n",
    "\n",
    "for i in range(nRows) :\n",
    "    for j in range(nCols) :\n",
    "        anArray[i,j] = i + j*nRows\n",
    "        print('Hi! I\\'m in row ', j, ' and column', i, '!')\n",
    "        \n",
    "anArray"
   ]
  },
  {
   "cell_type": "markdown",
   "id": "a6a5bf18",
   "metadata": {},
   "source": [
    "So what's happening? In the first or \"outer\" loop, `for i in range(nRows) :` we're going to step through the numbers 0 to three, corresponding to the row indexes. \n",
    "\n",
    "At each value of `i`, the entire second or \"inner\" loop, `for j in range(nCols) :` is going to run, stepping through each value of `j`, corresponding to the column indexes. \n",
    "\n",
    "At each value of `j`, we stick a number in the `[i, j]` cell (`anArray[i,j] = i + j*nRows`), print a little message, and move on the the next value of `j`.\n",
    "\n",
    "Once the inner loop is complete, we jump out into the outer loop, increment `i` by 1, and then jump back into the inner loop and do the whole thing again! After i has run its course from 0 to `nRows`, we say farewell to that loop and go on our way!"
   ]
  },
  {
   "cell_type": "markdown",
   "id": "5ea9fa58",
   "metadata": {},
   "source": [
    "---"
   ]
  },
  {
   "cell_type": "markdown",
   "id": "fac1d2ab",
   "metadata": {},
   "source": [
    "###### Coding challenge!"
   ]
  },
  {
   "cell_type": "markdown",
   "id": "0cff052f",
   "metadata": {},
   "source": [
    "Change the above loop so that it numbers the cells from from left-to-right, top-to-bottom. As before, resist the temptation to cut and paste and write your code from scratch! "
   ]
  },
  {
   "cell_type": "code",
   "execution_count": 35,
   "id": "6d6a896a",
   "metadata": {},
   "outputs": [
    {
     "data": {
      "text/plain": [
       "array([[ 1.,  2.,  3.],\n",
       "       [ 4.,  5.,  6.],\n",
       "       [ 7.,  8.,  9.],\n",
       "       [10., 11., 12.]])"
      ]
     },
     "execution_count": 35,
     "metadata": {},
     "output_type": "execute_result"
    }
   ],
   "source": [
    "nRows, nCols = 4, 3\n",
    "myArraySize = (nRows, nCols)\n",
    "anArray = np.zeros(myArraySize)\n",
    "\n",
    "n = 1\n",
    "for r in range(nRows) :\n",
    "    for c in range(nCols) :\n",
    "        anArray[r,c] = n\n",
    "        n = n + 1\n",
    "anArray"
   ]
  },
  {
   "cell_type": "markdown",
   "id": "4accd0bb",
   "metadata": {},
   "source": [
    "---"
   ]
  },
  {
   "cell_type": "markdown",
   "id": "a3b61da7",
   "metadata": {},
   "source": [
    "The loop you just wrote numbers the cells of your array in \"row-major\" order, or \"row wise\", while the original loop numbered the cells in \"column-major\" order, or \"column wise\". "
   ]
  },
  {
   "cell_type": "markdown",
   "id": "291be8ab",
   "metadata": {},
   "source": [
    "Nested loops give you tremendous power! You go through any array element-by-element and get or set individual values. You can even do things like loading a series of data files in turn (in an outer loop), and then chewing through each data file in an inner loop."
   ]
  },
  {
   "cell_type": "markdown",
   "id": "52b4d500",
   "metadata": {},
   "source": [
    "As a final example, let's say we want to simulate a diurnal rhythm, like the cortisol level the body for several people. Since differnt people have different schedules, we want to add a bit of randomness to when each persons cortisole level waxes and wanes. "
   ]
  },
  {
   "cell_type": "code",
   "execution_count": 36,
   "id": "22ea82bb",
   "metadata": {},
   "outputs": [],
   "source": [
    "import numpy as np\n",
    "import matplotlib.pyplot as plt"
   ]
  },
  {
   "cell_type": "code",
   "execution_count": 37,
   "id": "99ea8012",
   "metadata": {},
   "outputs": [],
   "source": [
    "hours, person = 24, 10            # (easily changeble) array height and width\n",
    "myArraySize = (hours, person)     # handy list of the size \n",
    "cortLevel = np.zeros(myArraySize) # make the array\n",
    "\n",
    "myFreq = 2*np.pi/hours            # make the frequency once per 24 hrs\n",
    "\n",
    "for j in range(person) :            # we'll go person by person\n",
    "    myPhase = np.random.rand(1, 1)  # get a random phase for this person\n",
    "    for i in range(hours) :         # go down current column (person) row-by-row\n",
    "        cortLevel[i,j] = np.sin((myFreq*i + myPhase)) # set val. for this [time, person]\n",
    "        "
   ]
  },
  {
   "cell_type": "code",
   "execution_count": 38,
   "id": "675e6edf",
   "metadata": {},
   "outputs": [
    {
     "data": {
      "image/png": "[encoded data removed]",
      "text/plain": [
       "<Figure size 432x288 with 1 Axes>"
      ]
     },
     "metadata": {
      "needs_background": "light"
     },
     "output_type": "display_data"
    }
   ],
   "source": [
    "plt.plot(cortLevel);"
   ]
  },
  {
   "cell_type": "markdown",
   "id": "1255ab6c",
   "metadata": {},
   "source": [
    "Cool!"
   ]
  },
  {
   "cell_type": "markdown",
   "id": "92827725",
   "metadata": {},
   "source": [
    "##### while loops"
   ]
  },
  {
   "cell_type": "markdown",
   "id": "5138dd14",
   "metadata": {},
   "source": [
    "Sometimes we wish to repeat a calculation (or something), not for a predetermined number of times like in a `for` loop, but until some critereon is reached. This is accomplished using a `while` loops, which just keeps running and running until a critereon is reached. One dangerous thing about a `while` loop is that if the criteon can't be reached because we made a mistake in our code, then the loop runs forever – an infinite loop!\n",
    "\n",
    "As a simple example, let's see how many tries it takes to get a number from the standard normal distribution that is above 2 - the upper 2.5% tail of the distribution!"
   ]
  },
  {
   "cell_type": "code",
   "execution_count": 39,
   "id": "98e5ccdd",
   "metadata": {},
   "outputs": [
    {
     "data": {
      "text/plain": [
       "59"
      ]
     },
     "execution_count": 39,
     "metadata": {},
     "output_type": "execute_result"
    }
   ],
   "source": [
    "x, cutOff, myCounter = 0, 2, 0\n",
    "\n",
    "while x < cutOff :\n",
    "    x = np.random.randn()\n",
    "    myCounter += 1\n",
    "    \n",
    "myCounter"
   ]
  },
  {
   "cell_type": "markdown",
   "id": "42b31291",
   "metadata": {},
   "source": [
    "The dissection of the code is as follows.\n",
    "\n",
    "* the first line sets some useful variables\n",
    "    - a \"test\" variable `x` that will contain our candidate random numbers\n",
    "    - our \"cut off\" variable that we will test x against\n",
    "    - a \"counter\" variable that we'll use to count the number of tries\n",
    "* the `while x < cutOff :` says \"keep trying *while* `x` is less than `cutOff`\n",
    "* `x = np.random.randn()` gets a random number and assignes it to `x`\n",
    "* `myCounter +=` increments our counter\n",
    "\n",
    "Once we get a random number above 2, the `x < 2` returns `False` and the loop ends. Whatever value is then in `myCounter` is our answer!"
   ]
  },
  {
   "cell_type": "markdown",
   "id": "376b0633",
   "metadata": {},
   "source": [
    "Run the above code cell several times! Does it always take the same number of times? Based on what you know about the standard normal distribution, how many times should it take?"
   ]
  },
  {
   "cell_type": "markdown",
   "id": "97ac3dfc",
   "metadata": {},
   "source": [
    "Now here's an interesting puzzle... How many times does it take to get a big random number on average? What does the distribution look like?\n",
    "\n",
    "How would we answer those questions?\n",
    "\n",
    "Let's use... \n",
    "\n",
    "a ***for loop!***"
   ]
  },
  {
   "cell_type": "code",
   "execution_count": 40,
   "id": "bad3d4d4",
   "metadata": {},
   "outputs": [],
   "source": [
    "import seaborn as sns  # for making a histogram/kde"
   ]
  },
  {
   "cell_type": "code",
   "execution_count": 41,
   "id": "41bf9dd3",
   "metadata": {
    "scrolled": true
   },
   "outputs": [],
   "source": [
    "nExperiments = 100  # how many times we'll do our little experiment\n",
    "nSamplesNeeded = np.zeros((nExperiments, 1))\n",
    "x, cutOff, = 0, 2\n",
    "\n",
    "for i in range(nExperiments) :\n",
    "    myCounter = 0\n",
    "    x = 0\n",
    "    while x < cutOff :\n",
    "        x = np.random.randn()\n",
    "        myCounter += 1\n",
    "    nSamplesNeeded[i, 0] = myCounter    \n",
    "    "
   ]
  },
  {
   "cell_type": "markdown",
   "id": "dda97622",
   "metadata": {},
   "source": [
    "That looks like a lot of code, but go through it carefully. All we have done is nest our `while` loop inside a `for` loop, so that we can do our \"How many times?\" experiment as often as we wish. On each pass through the `for` loop, we store the answer from a single experiment in the `i`th row of a numpy array!"
   ]
  },
  {
   "cell_type": "markdown",
   "id": "c52a5f35",
   "metadata": {},
   "source": [
    "Let's look at the number of tries it took on each experiment:"
   ]
  },
  {
   "cell_type": "code",
   "execution_count": 42,
   "id": "9dfe675a",
   "metadata": {
    "scrolled": false
   },
   "outputs": [
    {
     "data": {
      "text/plain": [
       "[<matplotlib.lines.Line2D at 0x2c84d8c1ca0>]"
      ]
     },
     "execution_count": 42,
     "metadata": {},
     "output_type": "execute_result"
    },
    {
     "data": {
      "image/png": "[encoded data removed]",
      "text/plain": [
       "<Figure size 432x288 with 1 Axes>"
      ]
     },
     "metadata": {
      "needs_background": "light"
     },
     "output_type": "display_data"
    }
   ],
   "source": [
    "plt.plot(nSamplesNeeded, '.')"
   ]
  },
  {
   "cell_type": "markdown",
   "id": "36e06d8e",
   "metadata": {},
   "source": [
    "Okay, cool! So it looks like we usually get a \"big\" number in under 50 tries, but it occasionally takes a lot longer. Let's look at the distribution of these numbers!"
   ]
  },
  {
   "cell_type": "code",
   "execution_count": 43,
   "id": "ed88b8b0",
   "metadata": {},
   "outputs": [
    {
     "data": {
      "text/plain": [
       "<seaborn.axisgrid.FacetGrid at 0x2c84aa8ae20>"
      ]
     },
     "execution_count": 43,
     "metadata": {},
     "output_type": "execute_result"
    },
    {
     "data": {
      "image/png": "[encoded data removed]",
      "text/plain": [
       "<Figure size 402.375x360 with 1 Axes>"
      ]
     },
     "metadata": {
      "needs_background": "light"
     },
     "output_type": "display_data"
    }
   ],
   "source": [
    "sns.displot(nSamplesNeeded, kind='kde')"
   ]
  },
  {
   "cell_type": "markdown",
   "id": "c69e24cb",
   "metadata": {},
   "source": [
    "Okay, I think that, while pretty, this plot is misleading. Can you see why?\n",
    "\n",
    "Let's do a plain old histogram."
   ]
  },
  {
   "cell_type": "code",
   "execution_count": 44,
   "id": "2981c8e6",
   "metadata": {},
   "outputs": [
    {
     "data": {
      "text/plain": [
       "<seaborn.axisgrid.FacetGrid at 0x2c84d8d7130>"
      ]
     },
     "execution_count": 44,
     "metadata": {},
     "output_type": "execute_result"
    },
    {
     "data": {
      "image/png": "[encoded data removed]",
      "text/plain": [
       "<Figure size 402.375x360 with 1 Axes>"
      ]
     },
     "metadata": {
      "needs_background": "light"
     },
     "output_type": "display_data"
    }
   ],
   "source": [
    "sns.displot(nSamplesNeeded, kind='hist')"
   ]
  },
  {
   "cell_type": "markdown",
   "id": "8166fd30",
   "metadata": {},
   "source": [
    "Now this make more sense, because we can't have a negative number of tries!"
   ]
  },
  {
   "cell_type": "markdown",
   "id": "a5f46908",
   "metadata": {},
   "source": [
    "So it looks like, on average, it took us about – what? – 40 tries to get a number in the upper 2 1/2% tail of the distribution. Let's do a quick calculation."
   ]
  },
  {
   "cell_type": "code",
   "execution_count": 45,
   "id": "bf32d1de",
   "metadata": {},
   "outputs": [
    {
     "data": {
      "text/plain": [
       "40.0"
      ]
     },
     "execution_count": 45,
     "metadata": {},
     "output_type": "execute_result"
    }
   ],
   "source": [
    "100 / 2.5"
   ]
  },
  {
   "cell_type": "markdown",
   "id": "1ff8bb9e",
   "metadata": {},
   "source": [
    "**Hmmm!!!**"
   ]
  },
  {
   "cell_type": "markdown",
   "id": "b6d329f1",
   "metadata": {},
   "source": [
    "### Summary"
   ]
  },
  {
   "cell_type": "markdown",
   "id": "57c4bbcc",
   "metadata": {},
   "source": [
    "In this tutorial, we have worked through the very important element of code called the ***loop***, which allows us to repeat calculations over and over and over again.\n",
    "\n",
    "The most frequently used loop is the `for` loop, which allows us to do a computation a number of times. It can be used to do things like crawl through the rows and columns of a numpy array. With a pair of nested `for` loops, we can even crawl through each cell of an array in either row-major or column-major order. We could even use a `for` loop to chew through a series of data files, etc.\n",
    "\n",
    "A `while` loop is used when we don't know ahead of time how many times we'll need to do the calculation. The while loop allows us to compute or look at thing as many times as necessary until some condition as met. We just have to be careful that we don't make a dreaded *infinite* loop (what sort of cut off would make the `while` loop above essentially infinite?)."
   ]
  },
  {
   "cell_type": "markdown",
   "id": "58264c77",
   "metadata": {},
   "source": [
    "**Loops are strong!**"
   ]
  }
 ],
 "metadata": {
  "kernelspec": {
   "display_name": "Python 3 (ipykernel)",
   "language": "python",
   "name": "python3"
  },
  "language_info": {
   "codemirror_mode": {
    "name": "ipython",
    "version": 3
   },
   "file_extension": ".py",
   "mimetype": "text/x-python",
   "name": "python",
   "nbconvert_exporter": "python",
   "pygments_lexer": "ipython3",
   "version": "3.9.7"
  }
 },
 "nbformat": 4,
 "nbformat_minor": 5
}
